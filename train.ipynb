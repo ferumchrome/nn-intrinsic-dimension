{
 "cells": [
  {
   "cell_type": "code",
   "execution_count": 1,
   "metadata": {},
   "outputs": [],
   "source": [
    "import torch\n",
    "from torch import nn as nn\n",
    "from torch.nn import functional as F\n",
    "from torch.autograd import Variable\n",
    "\n",
    "import numpy as np\n",
    "from matplotlib import pyplot as plt\n",
    "from skimage import img_as_float\n",
    "import mnist\n",
    "from tqdm import tqdm\n",
    "\n",
    "from models import FC_RP"
   ]
  },
  {
   "cell_type": "code",
   "execution_count": 2,
   "metadata": {},
   "outputs": [],
   "source": [
    "y_train, y_test = mnist.train_labels(), mnist.test_labels()\n",
    "    \n",
    "X_train = np.array([img_as_float(image).reshape(-1, 1).ravel() for image in mnist.train_images()])\n",
    "X_test  = np.array([img_as_float(image).reshape(-1, 1).ravel() for image in mnist.test_images()])\n",
    "    \n",
    "    \n",
    "f_in = X_train[0].shape[0]\n",
    "f_out = 10"
   ]
  },
  {
   "cell_type": "code",
   "execution_count": 3,
   "metadata": {},
   "outputs": [],
   "source": [
    "\n",
    "model_rp = FC_RP(f_in, 500, 500, f_out, d=500)"
   ]
  },
  {
   "cell_type": "code",
   "execution_count": 4,
   "metadata": {},
   "outputs": [],
   "source": [
    "def compute_loss_rp(X_batch, y_batch):\n",
    "    X_batch = Variable(torch.FloatTensor(X_batch))\n",
    "    y_batch = Variable(torch.LongTensor(y_batch))\n",
    "    logits = model_rp(X_batch)\n",
    "    return F.cross_entropy(logits, y_batch).mean()\n",
    "\n",
    "def iterate_minibatches(X, y, batchsize):\n",
    "    indices = np.random.permutation(np.arange(len(X)))\n",
    "    for start in range(0, len(indices), batchsize):\n",
    "        ix = indices[start: start + batchsize]\n",
    "        yield X[ix], y[ix]\n",
    "        \n",
    "train_loss = []\n",
    "val_accuracy = []\n",
    "loss_history = []\n",
    "accuracy_history = []"
   ]
  },
  {
   "cell_type": "code",
   "execution_count": null,
   "metadata": {},
   "outputs": [
    {
     "data": {
      "image/png": "[encoded data removed]",
      "text/plain": [
       "<matplotlib.figure.Figure at 0x7f019061e470>"
      ]
     },
     "metadata": {},
     "output_type": "display_data"
    },
    {
     "name": "stdout",
     "output_type": "stream",
     "text": [
      "Epoch 3 of 100 took 104.653s\n",
      "  training loss (in-iteration): \t2.310199\n",
      "  validation accuracy: \t\t\t9.79 %\n"
     ]
    }
   ],
   "source": [
    "import time\n",
    "from IPython import display\n",
    "\n",
    "num_epochs = 100 # total amount of full passes over training data\n",
    "batch_size = 100  # number of samples processed in one SGD iteration\n",
    "\n",
    "opt = torch.optim.Adam([param for param in model_rp.parameters() if param.requires_grad])\n",
    "\n",
    "for epoch in range(num_epochs):\n",
    "    # In each epoch, we do a full pass over the training data:\n",
    "    start_time = time.time()\n",
    "    model_rp.train(True) # enable dropout / batch_norm training behavior\n",
    "    for X_batch, y_batch in iterate_minibatches(X_train, y_train, batch_size):\n",
    "        # train on batch\n",
    "        loss = compute_loss_rp(X_batch, y_batch)\n",
    "        loss.backward()\n",
    "        opt.step()\n",
    "        opt.zero_grad()\n",
    "        train_loss.append(loss.data.numpy()[0])\n",
    "        \n",
    "    # And a full pass over the validation data:\n",
    "    model_rp.train(False) # disable dropout / use averages for batch_norm\n",
    "    for X_batch, y_batch in iterate_minibatches(X_test, y_test, batch_size):\n",
    "        logits = model_rp(Variable(torch.FloatTensor(X_batch)))\n",
    "        y_pred = logits.max(1)[1].data.numpy()\n",
    "        val_accuracy.append(np.mean(y_batch == y_pred))\\\n",
    "\n",
    "    loss_history.append(np.mean(train_loss[-len(X_train) // batch_size :]))\n",
    "    accuracy_history.append(np.mean(val_accuracy[-len(X_test) // batch_size :]) * 100)\n",
    "    \n",
    "    # Then we print the results for this epoch:\n",
    "    display.clear_output(wait=True)\n",
    "    fig, sp = plt.subplots(1, 2, figsize=(16, 6))\n",
    "    sp[0].set_title(\"Training loss\")\n",
    "    sp[0].set_xlabel(\"#iteration\")\n",
    "    sp[0].set_ylabel(\"loss\")\n",
    "    sp[0].plot(loss_history, 'b')\n",
    "    \n",
    "    sp[1].set_title(\"Validation accuracy\")\n",
    "    sp[1].set_xlabel(\"#iteration\")\n",
    "    sp[1].set_ylabel(\"accuracy\")\n",
    "    sp[1].plot(accuracy_history, 'b')\n",
    "    \n",
    "    plt.show()\n",
    "    print(\"Epoch {} of {} took {:.3f}s\".format(\n",
    "        epoch + 1, num_epochs, time.time() - start_time))\n",
    "    print(\"  training loss (in-iteration): \\t{:.6f}\".format(\n",
    "        np.mean(train_loss[-len(X_train) // batch_size :])))\n",
    "    print(\"  validation accuracy: \\t\\t\\t{:.2f} %\".format(\n",
    "        np.mean(val_accuracy[-len(X_train) // batch_size :]) * 100))"
   ]
  },
  {
   "cell_type": "code",
   "execution_count": null,
   "metadata": {},
   "outputs": [],
   "source": []
  }
 ],
 "metadata": {
  "kernelspec": {
   "display_name": "Python 3",
   "language": "python",
   "name": "python3"
  },
  "language_info": {
   "codemirror_mode": {
    "name": "ipython",
    "version": 3
   },
   "file_extension": ".py",
   "mimetype": "text/x-python",
   "name": "python",
   "nbconvert_exporter": "python",
   "pygments_lexer": "ipython3",
   "version": "3.6.5"
  }
 },
 "nbformat": 4,
 "nbformat_minor": 2
}
